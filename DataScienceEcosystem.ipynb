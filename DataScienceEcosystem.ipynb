{
 "cells": [
  {
   "cell_type": "markdown",
   "id": "f56b87d5-b638-469c-8791-2758e3bbd926",
   "metadata": {},
   "source": [
    "# Data Science Tools and Ecosystem"
   ]
  },
  {
   "cell_type": "markdown",
   "id": "5df92bfd-86c7-40f5-b659-a59dd7a3f788",
   "metadata": {},
   "source": [
    "In this notebook, Data Science Tools and Ecosystem are summarized."
   ]
  },
  {
   "cell_type": "markdown",
   "id": "7f32578d-3559-4584-9adf-d0676b6d686a",
   "metadata": {},
   "source": [
    "In addition, the objectives of this notebook are as follows: "
   ]
  },
  {
   "cell_type": "markdown",
   "id": "ef559482-fe79-49a0-95bb-59c81bdbf04a",
   "metadata": {},
   "source": [
    "**Objectives**"
   ]
  },
  {
   "cell_type": "markdown",
   "id": "fec08fab-902e-4e28-a89b-ecb89a425d80",
   "metadata": {},
   "source": [
    "- Show popular languages used in Data Science\n",
    "- Show commonly used Data Science libraries\n",
    "- Show examples of evaluating arithmetic expressions in Python"
   ]
  },
  {
   "cell_type": "markdown",
   "id": "683a1324-b04c-4af9-b601-ef15c67b4947",
   "metadata": {},
   "source": [
    "Some of the popular languages that Data Scientists use are: "
   ]
  },
  {
   "cell_type": "markdown",
   "id": "cbf15950-8e2e-48b1-8ee9-7d7d073dce92",
   "metadata": {},
   "source": [
    "1. Python\n",
    "2. R\n",
    "3. SQL"
   ]
  },
  {
   "cell_type": "markdown",
   "id": "2d923289-0381-47f0-9ddb-7688bfcc9fd6",
   "metadata": {},
   "source": [
    "Some of the commonly used libraries used by Data Scientists include:"
   ]
  },
  {
   "cell_type": "markdown",
   "id": "eef354f7-2d52-4320-85ae-412043ae83d4",
   "metadata": {},
   "source": [
    "1. Numpy\n",
    "2. Pandas\n",
    "3. TensorFlow"
   ]
  },
  {
   "cell_type": "markdown",
   "id": "e7cbbdb5-1c70-4cc4-b300-ea32828d3273",
   "metadata": {},
   "source": [
    "Examples of Data Science Tools are tabulated below. "
   ]
  },
  {
   "cell_type": "markdown",
   "id": "fbf107e4-0d5f-4e28-95c9-3b2486b00d56",
   "metadata": {},
   "source": [
    "| Data Science Tools | \n",
    "| -------------|\n",
    "| Jupyter Notebook |\n",
    "| R Studio |\n",
    "| Github |"
   ]
  },
  {
   "cell_type": "markdown",
   "id": "c9f1b8da-3888-4251-9bd1-c713e9be8aa5",
   "metadata": {},
   "source": [
    "### Below are a few examples of evaluating arithmetic expressions in Python"
   ]
  },
  {
   "cell_type": "code",
   "execution_count": 4,
   "id": "c57afce3-3c7f-4b09-9122-36e95c93b2d9",
   "metadata": {},
   "outputs": [
    {
     "data": {
      "text/plain": [
       "17"
      ]
     },
     "execution_count": 4,
     "metadata": {},
     "output_type": "execute_result"
    }
   ],
   "source": [
    "# This a simple arithmetic expression to mutiply then add integer\n",
    "(3*4)+5"
   ]
  },
  {
   "cell_type": "code",
   "execution_count": 5,
   "id": "237ca3b3-7037-4b3e-a515-1099395f7f3e",
   "metadata": {},
   "outputs": [
    {
     "data": {
      "text/plain": [
       "3.3333333333333335"
      ]
     },
     "execution_count": 5,
     "metadata": {},
     "output_type": "execute_result"
    }
   ],
   "source": [
    "# This will convert 200 minutes to hours by diving by 60\n",
    "mins = 200\n",
    "hours = mins/60\n",
    "hours"
   ]
  },
  {
   "cell_type": "markdown",
   "id": "9b80979e-a772-425a-b980-e31fc655f0b4",
   "metadata": {},
   "source": [
    "## Author\n",
    "Paul John Julongbayan"
   ]
  }
 ],
 "metadata": {
  "kernelspec": {
   "display_name": "Python 3 (ipykernel)",
   "language": "python",
   "name": "python3"
  },
  "language_info": {
   "codemirror_mode": {
    "name": "ipython",
    "version": 3
   },
   "file_extension": ".py",
   "mimetype": "text/x-python",
   "name": "python",
   "nbconvert_exporter": "python",
   "pygments_lexer": "ipython3",
   "version": "3.11.8"
  }
 },
 "nbformat": 4,
 "nbformat_minor": 5
}
